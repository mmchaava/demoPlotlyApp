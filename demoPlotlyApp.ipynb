{
 "cells": [
  {
   "cell_type": "markdown",
   "id": "74d3b19b",
   "metadata": {},
   "source": [
    "# Coursera Final Project"
   ]
  },
  {
   "cell_type": "code",
   "execution_count": null,
   "id": "b1e62506",
   "metadata": {},
   "outputs": [],
   "source": [
    "from jupyter_dash import JupyterDash"
   ]
  },
  {
   "cell_type": "code",
   "execution_count": null,
   "id": "0e4eb6c5",
   "metadata": {},
   "outputs": [],
   "source": [
    "import dash\n",
    "import dash_core_components as dcc\n",
    "import dash_html_components as html\n",
    "import pandas as pd\n",
    "import plotly.express as px\n",
    "from dash.dependencies import Input, Output"
   ]
  },
  {
   "cell_type": "code",
   "execution_count": null,
   "id": "bc86edd6",
   "metadata": {},
   "outputs": [],
   "source": [
    "JupyterDash.infer_jupyter_proxy_config()"
   ]
  },
  {
   "cell_type": "markdown",
   "id": "9e0070c8",
   "metadata": {},
   "source": [
    "#### Let us import the data we will use for our project"
   ]
  },
  {
   "cell_type": "code",
   "execution_count": null,
   "id": "a77aebdf",
   "metadata": {},
   "outputs": [],
   "source": [
    "df = pd.read_excel(\"data-numbers.xlsx\")"
   ]
  },
  {
   "cell_type": "code",
   "execution_count": null,
   "id": "5057d982",
   "metadata": {},
   "outputs": [],
   "source": [
    "df.head()"
   ]
  },
  {
   "cell_type": "code",
   "execution_count": null,
   "id": "fe4623c6",
   "metadata": {},
   "outputs": [],
   "source": [
    "df.shape"
   ]
  },
  {
   "cell_type": "code",
   "execution_count": 2,
   "id": "a4bb4985",
   "metadata": {},
   "outputs": [
    {
     "ename": "SyntaxError",
     "evalue": "invalid syntax (<ipython-input-2-9065c5fdc057>, line 23)",
     "output_type": "error",
     "traceback": [
      "\u001b[1;36m  File \u001b[1;32m\"<ipython-input-2-9065c5fdc057>\"\u001b[1;36m, line \u001b[1;32m23\u001b[0m\n\u001b[1;33m    def update_figure(column):\u001b[0m\n\u001b[1;37m    ^\u001b[0m\n\u001b[1;31mSyntaxError\u001b[0m\u001b[1;31m:\u001b[0m invalid syntax\n"
     ]
    }
   ],
   "source": [
    "# Build App\n",
    "app = JupyterDash(__name__)\n",
    "app.layout = html.Div([\n",
    "    html.H1(\"JupyterDash Demo\"),\n",
    "    dcc.Graph(id='graph',\n",
    "    html.Label([\n",
    "        \"Input Variable\",\n",
    "        dcc.Dropdown(\n",
    "            id = 'column-dropdown', clearance=False,\n",
    "            value = df.column[0], options=[\n",
    "                {'label' : c, 'value': c}\n",
    "                for c in df.columns\n",
    "            ])\n",
    "    ]),\n",
    ")\n",
    "\n",
    "# Define callback to update the graph\n",
    "\n",
    "@app.callback(\n",
    "    Output('graph', 'figure'),\n",
    "    [Input(\"column-dropdown\", \"value\")]\n",
    ")\n",
    "def update_figure(column):\n",
    "    return px.scatter(\n",
    "        df, x=column, y=\"Y\",\n",
    "        render_mode=\"webgl\", title=\"Scatter Plot\")\n",
    "\n",
    "# Run app and display result inline in the notebook\n",
    "app.run_server(mode='inline')\n"
   ]
  },
  {
   "cell_type": "code",
   "execution_count": null,
   "id": "d9c86ff5",
   "metadata": {},
   "outputs": [],
   "source": []
  },
  {
   "cell_type": "code",
   "execution_count": null,
   "id": "3ade105b",
   "metadata": {},
   "outputs": [],
   "source": []
  },
  {
   "cell_type": "code",
   "execution_count": null,
   "id": "583fea7f",
   "metadata": {},
   "outputs": [],
   "source": []
  },
  {
   "cell_type": "code",
   "execution_count": null,
   "id": "8063f990",
   "metadata": {},
   "outputs": [],
   "source": []
  },
  {
   "cell_type": "code",
   "execution_count": null,
   "id": "53ca013f",
   "metadata": {},
   "outputs": [],
   "source": []
  }
 ],
 "metadata": {
  "kernelspec": {
   "display_name": "Python 3",
   "language": "python",
   "name": "python3"
  },
  "language_info": {
   "codemirror_mode": {
    "name": "ipython",
    "version": 3
   },
   "file_extension": ".py",
   "mimetype": "text/x-python",
   "name": "python",
   "nbconvert_exporter": "python",
   "pygments_lexer": "ipython3",
   "version": "3.8.8"
  }
 },
 "nbformat": 4,
 "nbformat_minor": 5
}
